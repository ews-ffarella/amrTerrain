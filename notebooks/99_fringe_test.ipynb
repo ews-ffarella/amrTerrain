{
 "cells": [
  {
   "cell_type": "code",
   "execution_count": null,
   "id": "0",
   "metadata": {},
   "outputs": [],
   "source": [
    "%load_ext autoreload\n",
    "%autoreload 2\n",
    "import sys\n",
    "from pathlib import Path\n",
    "\n",
    "\n",
    "import geopandas as gpd\n",
    "import IPython.display\n",
    "import matplotlib.pyplot as plt\n",
    "import numpy as np\n",
    "import pandas as pd\n",
    "import rasterio\n",
    "import matplotlib as mpl\n",
    "import contextlib\n",
    "import rasterio.features\n",
    "import rasterio.plot\n",
    "import rasterio.transform\n",
    "import rasterio.warp\n",
    "import shapely\n",
    "import shapely.geometry as sg\n",
    "from amr_terrain.backendInterface import amrBackend\n",
    "import logging\n",
    "\n",
    "logging.basicConfig(level=logging.INFO)\n",
    "sys.executable, sys.path"
   ]
  },
  {
   "cell_type": "markdown",
   "id": "1",
   "metadata": {},
   "source": [
    "# Read the YAML file"
   ]
  },
  {
   "cell_type": "code",
   "execution_count": null,
   "id": "2",
   "metadata": {},
   "outputs": [],
   "source": [
    "CWD = Path(\".\").resolve()\n",
    "print(CWD)"
   ]
  },
  {
   "cell_type": "code",
   "execution_count": null,
   "id": "3",
   "metadata": {},
   "outputs": [],
   "source": [
    "import yaml\n",
    "yaml_file = Path('../yaml_files/99_fringe_test.yaml').absolute()\n",
    "assert yaml_file.is_file()\n",
    "ROOT_PATH = yaml_file.resolve().absolute().parent.parent\n",
    "print(ROOT_PATH)\n",
    "cfg = yaml.safe_load(yaml_file.read_text(encoding=\"latin-1\"))\n",
    "cfg"
   ]
  },
  {
   "cell_type": "markdown",
   "id": "4",
   "metadata": {},
   "source": [
    "# Create the backed"
   ]
  },
  {
   "cell_type": "code",
   "execution_count": null,
   "id": "5",
   "metadata": {},
   "outputs": [],
   "source": [
    "import matplotlib as mpl\n",
    "with contextlib.chdir(ROOT_PATH), mpl.rc_context({'figure.figsize': (6, 6), 'figure.dpi': 96}):\n",
    "    backend = amrBackend(yaml_file)\n",
    "    backend.createDomain()\n",
    "    if backend.write_stl:\n",
    "        # plt.close(\"all\")\n",
    "        pass\n",
    "backend.srtm_output, backend.terrainSTL"
   ]
  }
 ],
 "metadata": {
  "kernelspec": {
   "display_name": ".venv",
   "language": "python",
   "name": "python3"
  },
  "language_info": {
   "codemirror_mode": {
    "name": "ipython",
    "version": 3
   },
   "file_extension": ".py",
   "mimetype": "text/x-python",
   "name": "python",
   "nbconvert_exporter": "python",
   "pygments_lexer": "ipython3",
   "version": "3.12.3"
  }
 },
 "nbformat": 4,
 "nbformat_minor": 5
}
